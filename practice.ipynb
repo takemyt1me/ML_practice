{
  "nbformat": 4,
  "nbformat_minor": 0,
  "metadata": {
    "colab": {
      "provenance": [],
      "authorship_tag": "ABX9TyMHntV+yEe/77hFUJ7u3xfY",
      "include_colab_link": true
    },
    "kernelspec": {
      "name": "python3",
      "display_name": "Python 3"
    },
    "language_info": {
      "name": "python"
    }
  },
  "cells": [
    {
      "cell_type": "markdown",
      "metadata": {
        "id": "view-in-github",
        "colab_type": "text"
      },
      "source": [
        "<a href=\"https://colab.research.google.com/github/takemyt1me/ML_practice/blob/main/practice.ipynb\" target=\"_parent\"><img src=\"https://colab.research.google.com/assets/colab-badge.svg\" alt=\"Open In Colab\"/></a>"
      ]
    },
    {
      "cell_type": "markdown",
      "source": [
        "**Pandas practice**"
      ],
      "metadata": {
        "id": "sVeB_DUYsT3S"
      }
    },
    {
      "cell_type": "code",
      "execution_count": null,
      "metadata": {
        "id": "ruatc6PrJ8Rk",
        "colab": {
          "base_uri": "https://localhost:8080/"
        },
        "outputId": "34647bd8-0029-47ce-fb07-9012aa20fe52"
      },
      "outputs": [
        {
          "output_type": "stream",
          "name": "stdout",
          "text": [
            "[100 200 300]\n"
          ]
        }
      ],
      "source": [
        "import pandas as pd\n",
        "\n",
        "sr = pd.Series([100, 200, 300], index = [\"one_hundred\", \"two_hundred\", \"three_hunderd\"])\n",
        "\n",
        "print(sr.values)\n"
      ]
    },
    {
      "cell_type": "code",
      "source": [
        "values = [[1,2,3],[4,5,6],[7,8,9]]\n",
        "index = ['one', 'two', 'three']\n",
        "columns = ['A','B','C']\n",
        "\n",
        "df = pd.DataFrame(values, index=index, columns=columns)\n",
        "\n",
        "print(df)"
      ],
      "metadata": {
        "colab": {
          "base_uri": "https://localhost:8080/"
        },
        "id": "yhfukYzSzxcK",
        "outputId": "40386cd7-d01c-4636-e9b0-b4269099e5f8"
      },
      "execution_count": null,
      "outputs": [
        {
          "output_type": "stream",
          "name": "stdout",
          "text": [
            "       A  B  C\n",
            "one    1  2  3\n",
            "two    4  5  6\n",
            "three  7  8  9\n"
          ]
        }
      ]
    },
    {
      "cell_type": "code",
      "source": [
        "data = {\n",
        "    'student_id':['2022170969', '2022170973','2022170974','2022170991','2022171000'],\n",
        "    'student_name':['유재형', '전성운','황건호','김경진','이재영'],\n",
        "    'score':['90.72','78.09','98.43','64.19','81.30']\n",
        "}\n",
        "\n",
        "df = pd.DataFrame(data)\n",
        "print(df)\n",
        "\n",
        "print(df.head(2))\n",
        "print(df.tail(3))\n",
        "print(df['student_id'])"
      ],
      "metadata": {
        "colab": {
          "base_uri": "https://localhost:8080/"
        },
        "id": "MY6kFAe30g2C",
        "outputId": "0f935ce9-2b61-47bb-c747-48b14ace5cdd"
      },
      "execution_count": null,
      "outputs": [
        {
          "output_type": "stream",
          "name": "stdout",
          "text": [
            "   student_id student_name  score\n",
            "0  2022170969          유재형  90.72\n",
            "1  2022170973          전성운  78.09\n",
            "2  2022170974          황건호  98.43\n",
            "3  2022170991          김경진  64.19\n",
            "4  2022171000          이재영  81.30\n",
            "   student_id student_name  score\n",
            "0  2022170969          유재형  90.72\n",
            "1  2022170973          전성운  78.09\n",
            "   student_id student_name  score\n",
            "2  2022170974          황건호  98.43\n",
            "3  2022170991          김경진  64.19\n",
            "4  2022171000          이재영  81.30\n",
            "0    2022170969\n",
            "1    2022170973\n",
            "2    2022170974\n",
            "3    2022170991\n",
            "4    2022171000\n",
            "Name: student_id, dtype: object\n"
          ]
        }
      ]
    },
    {
      "cell_type": "markdown",
      "source": [
        "**Tensor practice**"
      ],
      "metadata": {
        "id": "W21RrCOxnOEY"
      }
    },
    {
      "cell_type": "code",
      "source": [
        "import numpy as np\n",
        "\n",
        "#t = np.array([0.,1.,2.,3.,4.,5.,6.])\n",
        "#print(t)\n",
        "#print('Rank of t:', t.ndim)\n",
        "#print('Shape of t:', t.shape)\n",
        "\n",
        "t = np.array([[1.,2.,3.],[4.,5.,6.],[7.,8.,9.,],[10.,11.,12.]])\n",
        "print(t)\n",
        "print('Rank of t:', t.ndim)\n",
        "print('Shape of t:', t.shape)"
      ],
      "metadata": {
        "colab": {
          "base_uri": "https://localhost:8080/"
        },
        "id": "Imq8KWHxnUX3",
        "outputId": "4b1fe892-cf6e-48c2-f6a8-fbf8b21d545f"
      },
      "execution_count": 5,
      "outputs": [
        {
          "output_type": "stream",
          "name": "stdout",
          "text": [
            "[[ 1.  2.  3.]\n",
            " [ 4.  5.  6.]\n",
            " [ 7.  8.  9.]\n",
            " [10. 11. 12.]]\n",
            "Rank of t: 2\n",
            "Shape of t: (4, 3)\n"
          ]
        }
      ]
    },
    {
      "cell_type": "code",
      "source": [
        "import torch\n",
        "\n",
        "tn= torch.FloatTensor([[1.,2.,3.],[4.,5.,6.],[7.,8.,9.,],[10.,11.,12.]])\n",
        "print(tn)\n",
        "print(tn.dim())\n",
        "print(tn.shape)\n",
        "print(tn.size())"
      ],
      "metadata": {
        "colab": {
          "base_uri": "https://localhost:8080/"
        },
        "id": "zsHjJXU6o0v0",
        "outputId": "c2eb6040-b02c-48c7-9616-642fa85e2522"
      },
      "execution_count": 11,
      "outputs": [
        {
          "output_type": "stream",
          "name": "stdout",
          "text": [
            "tensor([[ 1.,  2.,  3.],\n",
            "        [ 4.,  5.,  6.],\n",
            "        [ 7.,  8.,  9.],\n",
            "        [10., 11., 12.]])\n",
            "2\n",
            "torch.Size([4, 3])\n",
            "torch.Size([4, 3])\n"
          ]
        }
      ]
    },
    {
      "cell_type": "markdown",
      "source": [
        "**Broadcasting**\n",
        "\n",
        "Matrix 간의 연산 시 Matrix size를 자동으로 조정해서 계산함"
      ],
      "metadata": {
        "id": "M-TMq9t9sp2F"
      }
    },
    {
      "cell_type": "code",
      "source": [
        "m1 = torch.FloatTensor([[1, 2], [3, 4]])\n",
        "m2 = torch.FloatTensor([[1], [2]])\n",
        "\n",
        "print(m1.matmul(m2))"
      ],
      "metadata": {
        "colab": {
          "base_uri": "https://localhost:8080/"
        },
        "id": "RGo579xxs46G",
        "outputId": "4bf59a8d-4920-4bd4-a509-65df5f7613f5"
      },
      "execution_count": 12,
      "outputs": [
        {
          "output_type": "stream",
          "name": "stdout",
          "text": [
            "tensor([[ 5.],\n",
            "        [11.]])\n"
          ]
        }
      ]
    },
    {
      "cell_type": "markdown",
      "source": [
        "**Pytorch view practice**"
      ],
      "metadata": {
        "id": "0iI_snOFxVjc"
      }
    },
    {
      "cell_type": "code",
      "source": [
        "vt = np.array([[[0, 1, 2],\n",
        "               [3, 4, 5]],\n",
        "              [[6, 7, 8],\n",
        "               [9, 10, 11]]])\n",
        "ft = torch.FloatTensor(vt)\n",
        "\n",
        "print(ft.shape)\n",
        "\n",
        "print(ft.view([-1,3]))\n",
        "print(ft.view([-1,3]).shape)\n",
        "\n",
        "#print(ft.view([-1,7])) :invalid input\n"
      ],
      "metadata": {
        "colab": {
          "base_uri": "https://localhost:8080/"
        },
        "id": "Sq0zojTixdKI",
        "outputId": "e0565333-5cb5-4226-9503-9d21c0be8022"
      },
      "execution_count": 16,
      "outputs": [
        {
          "output_type": "stream",
          "name": "stdout",
          "text": [
            "torch.Size([2, 2, 3])\n",
            "tensor([[ 0.,  1.,  2.],\n",
            "        [ 3.,  4.,  5.],\n",
            "        [ 6.,  7.,  8.],\n",
            "        [ 9., 10., 11.]])\n",
            "torch.Size([4, 3])\n"
          ]
        }
      ]
    },
    {
      "cell_type": "markdown",
      "source": [
        "**Squeeze practice**\n",
        "\n",
        "Delete dimension when it is 1"
      ],
      "metadata": {
        "id": "lzc3uxNc0kGI"
      }
    },
    {
      "cell_type": "code",
      "source": [
        "st = torch.FloatTensor([[0],[1],[2]])\n",
        "print(st.squeeze())\n",
        "print(st.squeeze().shape)"
      ],
      "metadata": {
        "colab": {
          "base_uri": "https://localhost:8080/"
        },
        "id": "EefLIgdC0j2p",
        "outputId": "6ff8a5dd-3047-4341-839e-8d8c9ece82e7"
      },
      "execution_count": 17,
      "outputs": [
        {
          "output_type": "stream",
          "name": "stdout",
          "text": [
            "tensor([0., 1., 2.])\n",
            "torch.Size([3])\n"
          ]
        }
      ]
    },
    {
      "cell_type": "markdown",
      "source": [
        "**Type Casting**\n",
        "\n",
        "change data type"
      ],
      "metadata": {
        "id": "rzO2K8Lf1T0J"
      }
    },
    {
      "cell_type": "code",
      "source": [
        "lt = torch .LongTensor([1,2,3,4])\n",
        "print(lt)\n",
        "\n",
        "print(lt.float())\n",
        "\n",
        "bt = torch.ByteTensor([True, False, False, True])\n",
        "print(bt)\n",
        "\n",
        "print(bt.long())"
      ],
      "metadata": {
        "colab": {
          "base_uri": "https://localhost:8080/"
        },
        "id": "VBdqXgAf1Z2s",
        "outputId": "08a1a490-d01f-45b7-ba30-b5ee380dd48f"
      },
      "execution_count": 19,
      "outputs": [
        {
          "output_type": "stream",
          "name": "stdout",
          "text": [
            "tensor([1, 2, 3, 4])\n",
            "tensor([1., 2., 3., 4.])\n",
            "tensor([1, 0, 0, 1], dtype=torch.uint8)\n",
            "tensor([1, 0, 0, 1])\n"
          ]
        }
      ]
    }
  ]
}