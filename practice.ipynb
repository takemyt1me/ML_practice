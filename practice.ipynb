{
  "nbformat": 4,
  "nbformat_minor": 0,
  "metadata": {
    "colab": {
      "provenance": [],
      "authorship_tag": "ABX9TyOp/PocIQcDLa8miWThi/LI",
      "include_colab_link": true
    },
    "kernelspec": {
      "name": "python3",
      "display_name": "Python 3"
    },
    "language_info": {
      "name": "python"
    }
  },
  "cells": [
    {
      "cell_type": "markdown",
      "metadata": {
        "id": "view-in-github",
        "colab_type": "text"
      },
      "source": [
        "<a href=\"https://colab.research.google.com/github/takemyt1me/ML_practice/blob/main/practice.ipynb\" target=\"_parent\"><img src=\"https://colab.research.google.com/assets/colab-badge.svg\" alt=\"Open In Colab\"/></a>"
      ]
    },
    {
      "cell_type": "markdown",
      "source": [
        "**Pandas practice**"
      ],
      "metadata": {
        "id": "sVeB_DUYsT3S"
      }
    },
    {
      "cell_type": "code",
      "execution_count": null,
      "metadata": {
        "id": "ruatc6PrJ8Rk",
        "colab": {
          "base_uri": "https://localhost:8080/"
        },
        "outputId": "34647bd8-0029-47ce-fb07-9012aa20fe52"
      },
      "outputs": [
        {
          "output_type": "stream",
          "name": "stdout",
          "text": [
            "[100 200 300]\n"
          ]
        }
      ],
      "source": [
        "import pandas as pd\n",
        "\n",
        "sr = pd.Series([100, 200, 300], index = [\"one_hundred\", \"two_hundred\", \"three_hunderd\"])\n",
        "\n",
        "print(sr.values)\n"
      ]
    },
    {
      "cell_type": "code",
      "source": [
        "values = [[1,2,3],[4,5,6],[7,8,9]]\n",
        "index = ['one', 'two', 'three']\n",
        "columns = ['A','B','C']\n",
        "\n",
        "df = pd.DataFrame(values, index=index, columns=columns)\n",
        "\n",
        "print(df)"
      ],
      "metadata": {
        "colab": {
          "base_uri": "https://localhost:8080/"
        },
        "id": "yhfukYzSzxcK",
        "outputId": "40386cd7-d01c-4636-e9b0-b4269099e5f8"
      },
      "execution_count": null,
      "outputs": [
        {
          "output_type": "stream",
          "name": "stdout",
          "text": [
            "       A  B  C\n",
            "one    1  2  3\n",
            "two    4  5  6\n",
            "three  7  8  9\n"
          ]
        }
      ]
    },
    {
      "cell_type": "code",
      "source": [
        "data = {\n",
        "    'student_id':['2022170969', '2022170973','2022170974','2022170991','2022171000'],\n",
        "    'student_name':['유재형', '전성운','황건호','김경진','이재영'],\n",
        "    'score':['90.72','78.09','98.43','64.19','81.30']\n",
        "}\n",
        "\n",
        "df = pd.DataFrame(data)\n",
        "print(df)\n",
        "\n",
        "print(df.head(2))\n",
        "print(df.tail(3))\n",
        "print(df['student_id'])"
      ],
      "metadata": {
        "colab": {
          "base_uri": "https://localhost:8080/"
        },
        "id": "MY6kFAe30g2C",
        "outputId": "0f935ce9-2b61-47bb-c747-48b14ace5cdd"
      },
      "execution_count": null,
      "outputs": [
        {
          "output_type": "stream",
          "name": "stdout",
          "text": [
            "   student_id student_name  score\n",
            "0  2022170969          유재형  90.72\n",
            "1  2022170973          전성운  78.09\n",
            "2  2022170974          황건호  98.43\n",
            "3  2022170991          김경진  64.19\n",
            "4  2022171000          이재영  81.30\n",
            "   student_id student_name  score\n",
            "0  2022170969          유재형  90.72\n",
            "1  2022170973          전성운  78.09\n",
            "   student_id student_name  score\n",
            "2  2022170974          황건호  98.43\n",
            "3  2022170991          김경진  64.19\n",
            "4  2022171000          이재영  81.30\n",
            "0    2022170969\n",
            "1    2022170973\n",
            "2    2022170974\n",
            "3    2022170991\n",
            "4    2022171000\n",
            "Name: student_id, dtype: object\n"
          ]
        }
      ]
    },
    {
      "cell_type": "markdown",
      "source": [
        "**Tensor practice**"
      ],
      "metadata": {
        "id": "W21RrCOxnOEY"
      }
    },
    {
      "cell_type": "code",
      "source": [
        "import numpy as np\n",
        "\n",
        "#t = np.array([0.,1.,2.,3.,4.,5.,6.])\n",
        "#print(t)\n",
        "#print('Rank of t:', t.ndim)\n",
        "#print('Shape of t:', t.shape)\n",
        "\n",
        "t = np.array([[1.,2.,3.],[4.,5.,6.],[7.,8.,9.,],[10.,11.,12.]])\n",
        "print(t)\n",
        "print('Rank of t:', t.ndim)\n",
        "print('Shape of t:', t.shape)"
      ],
      "metadata": {
        "colab": {
          "base_uri": "https://localhost:8080/"
        },
        "id": "Imq8KWHxnUX3",
        "outputId": "4b1fe892-cf6e-48c2-f6a8-fbf8b21d545f"
      },
      "execution_count": 5,
      "outputs": [
        {
          "output_type": "stream",
          "name": "stdout",
          "text": [
            "[[ 1.  2.  3.]\n",
            " [ 4.  5.  6.]\n",
            " [ 7.  8.  9.]\n",
            " [10. 11. 12.]]\n",
            "Rank of t: 2\n",
            "Shape of t: (4, 3)\n"
          ]
        }
      ]
    },
    {
      "cell_type": "code",
      "source": [
        "import torch\n",
        "\n",
        "tn= torch.FloatTensor([[1.,2.,3.],[4.,5.,6.],[7.,8.,9.,],[10.,11.,12.]])\n",
        "print(tn)\n",
        "print(tn.dim())\n",
        "print(tn.shape)\n",
        "print(tn.size())"
      ],
      "metadata": {
        "colab": {
          "base_uri": "https://localhost:8080/"
        },
        "id": "zsHjJXU6o0v0",
        "outputId": "ccc27424-2542-4c99-9519-5242f1083711"
      },
      "execution_count": 9,
      "outputs": [
        {
          "output_type": "stream",
          "name": "stdout",
          "text": [
            "tensor([[ 1.,  2.,  3.],\n",
            "        [ 4.,  5.,  6.],\n",
            "        [ 7.,  8.,  9.],\n",
            "        [10., 11., 12.]])\n",
            "2\n",
            "torch.Size([4, 3])\n",
            "torch.Size([4, 3])\n"
          ]
        }
      ]
    },
    {
      "cell_type": "markdown",
      "source": [
        "**Broadcasting**\n",
        "\n",
        "Matrix 간의 연산 시 Matrix size를 자동으로 조정해서 계산함"
      ],
      "metadata": {
        "id": "M-TMq9t9sp2F"
      }
    },
    {
      "cell_type": "code",
      "source": [
        "m1 = torch.FloatTensor([[1, 2], [3, 4]])\n",
        "m2 = torch.FloatTensor([[1], [2]])\n",
        "\n",
        "print(m1.matmul(m2))"
      ],
      "metadata": {
        "colab": {
          "base_uri": "https://localhost:8080/"
        },
        "id": "RGo579xxs46G",
        "outputId": "2360cb76-22f3-4502-e0a7-3e6a6f5271fd"
      },
      "execution_count": 10,
      "outputs": [
        {
          "output_type": "stream",
          "name": "stdout",
          "text": [
            "tensor([[ 5.],\n",
            "        [11.]])\n"
          ]
        }
      ]
    }
  ]
}